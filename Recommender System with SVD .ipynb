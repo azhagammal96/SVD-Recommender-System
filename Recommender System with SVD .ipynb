{
 "cells": [
  {
   "cell_type": "markdown",
   "metadata": {},
   "source": [
    "# Movie Recommendation System\n",
    "## Recommender System using SVD\n"
   ]
  },
  {
   "cell_type": "markdown",
   "metadata": {},
   "source": [
    "#### Imports"
   ]
  },
  {
   "cell_type": "code",
   "execution_count": 17,
   "metadata": {},
   "outputs": [],
   "source": [
    "import pandas as pd\n",
    "import numpy as np\n",
    "import scipy\n",
    "import scipy.linalg as linalg\n",
    "from scipy.linalg import sqrtm\n",
    "from numpy import *"
   ]
  },
  {
   "cell_type": "markdown",
   "metadata": {},
   "source": [
    "#### Dataset\n",
    "\n",
    "The ml-1m, or the [MovieLens dataset 100 k](https://grouplens.org/datasets/movielens/100k).\n",
    "\n",
    "##### 1. Data Preprocessing\n",
    "We will begin by loading the dataset file present in the `.csv` file into pandas dataframes and visualizing the entries."
   ]
  },
  {
   "cell_type": "code",
   "execution_count": 18,
   "metadata": {},
   "outputs": [
    {
     "name": "stdout",
     "output_type": "stream",
     "text": [
      "Number of users 718\n",
      "Number of movies 8915\n"
     ]
    },
    {
     "data": {
      "text/html": [
       "<div>\n",
       "<style scoped>\n",
       "    .dataframe tbody tr th:only-of-type {\n",
       "        vertical-align: middle;\n",
       "    }\n",
       "\n",
       "    .dataframe tbody tr th {\n",
       "        vertical-align: top;\n",
       "    }\n",
       "\n",
       "    .dataframe thead th {\n",
       "        text-align: right;\n",
       "    }\n",
       "</style>\n",
       "<table border=\"1\" class=\"dataframe\">\n",
       "  <thead>\n",
       "    <tr style=\"text-align: right;\">\n",
       "      <th></th>\n",
       "      <th>userId</th>\n",
       "      <th>movieId</th>\n",
       "      <th>rating</th>\n",
       "      <th>timestamp</th>\n",
       "    </tr>\n",
       "  </thead>\n",
       "  <tbody>\n",
       "    <tr>\n",
       "      <th>0</th>\n",
       "      <td>1</td>\n",
       "      <td>1</td>\n",
       "      <td>5.0</td>\n",
       "      <td>847117005</td>\n",
       "    </tr>\n",
       "    <tr>\n",
       "      <th>1</th>\n",
       "      <td>1</td>\n",
       "      <td>2</td>\n",
       "      <td>3.0</td>\n",
       "      <td>847642142</td>\n",
       "    </tr>\n",
       "    <tr>\n",
       "      <th>2</th>\n",
       "      <td>1</td>\n",
       "      <td>10</td>\n",
       "      <td>3.0</td>\n",
       "      <td>847641896</td>\n",
       "    </tr>\n",
       "    <tr>\n",
       "      <th>3</th>\n",
       "      <td>1</td>\n",
       "      <td>32</td>\n",
       "      <td>4.0</td>\n",
       "      <td>847642008</td>\n",
       "    </tr>\n",
       "    <tr>\n",
       "      <th>4</th>\n",
       "      <td>1</td>\n",
       "      <td>34</td>\n",
       "      <td>4.0</td>\n",
       "      <td>847641956</td>\n",
       "    </tr>\n",
       "  </tbody>\n",
       "</table>\n",
       "</div>"
      ],
      "text/plain": [
       "  userId movieId  rating  timestamp\n",
       "0      1       1     5.0  847117005\n",
       "1      1       2     3.0  847642142\n",
       "2      1      10     3.0  847641896\n",
       "3      1      32     4.0  847642008\n",
       "4      1      34     4.0  847641956"
      ]
     },
     "execution_count": 18,
     "metadata": {},
     "output_type": "execute_result"
    }
   ],
   "source": [
    "data = pd.read_csv('movielens100k.csv')\n",
    "data['userId'] = data['userId'].astype('str')\n",
    "data['movieId'] = data['movieId'].astype('str')\n",
    "\n",
    "users = data['userId'].unique() #list of all users\n",
    "movies = data['movieId'].unique() #list of all movies\n",
    "\n",
    "print(\"Number of users\", len(users))\n",
    "print(\"Number of movies\", len(movies))\n",
    "\n",
    "data.head()"
   ]
  },
  {
   "cell_type": "markdown",
   "metadata": {},
   "source": [
    "##### 2. Split the data into a train and test set"
   ]
  },
  {
   "cell_type": "code",
   "execution_count": 19,
   "metadata": {},
   "outputs": [],
   "source": [
    "test = pd.DataFrame(columns=data.columns)\n",
    "train = pd.DataFrame(columns=data.columns)\n",
    "\n",
    "test_ratio = 0.2 #fraction of data to be used as test set.\n",
    "\n",
    "for u in users:\n",
    "    temp = data[data['userId'] == u]\n",
    "    n = len(temp)\n",
    "    test_size = int(test_ratio*n)\n",
    "    \n",
    "    temp = temp.sort_values('timestamp').reset_index()\n",
    "    temp.drop('index', axis=1, inplace=True)\n",
    "\n",
    "\n",
    "    dummy_test = temp.iloc[n-1-test_size :]\n",
    "    dummy_train = temp.iloc[: n-2-test_size]\n",
    "\n",
    "    test = pd.concat([test, dummy_test])\n",
    "    train = pd.concat([train, dummy_train])"
   ]
  },
  {
   "cell_type": "markdown",
   "metadata": {},
   "source": [
    "##### 3. Create the utility matrix\n",
    "\n",
    "The input data will now be converted to the utility matrix $(n\\times m)$ where the rows of the matrix are users $n$ and the columns are the ratings for the $m$-th movie."
   ]
  },
  {
   "cell_type": "code",
   "execution_count": 20,
   "metadata": {},
   "outputs": [],
   "source": [
    "# Create_utility_matrix\n",
    "def create_utility_matrix(data, formatizer = {'user':0, 'item': 1, 'value': 2}):\n",
    "\n",
    "        \"\"\"\n",
    "        :param data:   \t\t\tArray-like, 2D, nx3\n",
    "        :param formatizer:      pass the formatizer\n",
    "        :return:                the utility matrix. 2D, n x m, n=users, m=items\n",
    "        \"\"\"\n",
    "        \n",
    "        itemField = formatizer['item']\n",
    "        userField = formatizer['user']\n",
    "        valueField = formatizer['value']\n",
    "\n",
    "        userList = data.iloc[:,userField].tolist()\n",
    "        itemList = data.iloc[:,itemField].tolist()\n",
    "        valueList = data.iloc[:,valueField].tolist()\n",
    "\n",
    "        users = list(set(data.iloc[:,userField]))\n",
    "        items = list(set(data.iloc[:,itemField]))\n",
    "\n",
    "        users_index = {users[i]: i for i in range(len(users))}\n",
    "\n",
    "        pd_dict = {item: [np.nan for i in range(len(users))] for item in items}\n",
    "\n",
    "        for i in range(0,len(data)):\n",
    "            item = itemList[i]\n",
    "            user = userList[i]\n",
    "            value = valueList[i]\n",
    "\n",
    "            pd_dict[item][users_index[user]] = value\n",
    "            \n",
    "\n",
    "        X = pd.DataFrame(pd_dict)\n",
    "        X.index = users\n",
    "        \n",
    "        itemcols = list(X.columns)\n",
    "        items_index = {itemcols[i]: i for i in range(len(itemcols))}\n",
    "        \n",
    "\n",
    "        return X, users_index, items_index\n",
    "\n",
    "utilMat, users_index, items_index = create_utility_matrix(train)"
   ]
  },
  {
   "cell_type": "markdown",
   "metadata": {},
   "source": [
    "#### Metric computation\n",
    "\n",
    "The function rmse computes the root mean square error (RMSE) for the true and the predicted movie ratings."
   ]
  },
  {
   "cell_type": "code",
   "execution_count": 21,
   "metadata": {},
   "outputs": [],
   "source": [
    "def rmse(true, pred):\n",
    "    # this will be used to compute the root mean square error for the true and the predicted movie rating\n",
    "    x = true - pred\n",
    "    return sum([xi*xi for xi in x])/len(x)"
   ]
  },
  {
   "cell_type": "markdown",
   "metadata": {},
   "source": [
    "#### Code for computing SVD for the utility matrix "
   ]
  },
  {
   "cell_type": "code",
   "execution_count": 24,
   "metadata": {},
   "outputs": [],
   "source": [
    "def svd(train,k):\n",
    "\n",
    "    utilMat = np.array(train)\n",
    "    #the utilMat is masked to hide the nan values\n",
    "    mask = isnan(utilMat)\n",
    "    masked_array = ma.masked_array(utilMat, mask)\n",
    "    \n",
    "    #the mean of the masked array is computed and the utilMat is filled with the mean values\n",
    "    mean = np.mean(masked_array, axis =0)\n",
    "    utilMat = np.full((718,7731), mean)\n",
    "\n",
    "    #an array of repeat elements of mean is created\n",
    "    sub = np.tile(mean, (718,1))\n",
    "    \n",
    "    #the utilmat is subtracted from the mean \n",
    "    utilMat = utilMat - sub\n",
    "    \n",
    "    #svd is carried out\n",
    "    U, d, V= linalg.svd(utilMat, full_matrices = False)\n",
    "    d = np.diag(d)\n",
    "\n",
    "    #only k most significant features are selected\n",
    "    U = U[:,0:k]    #print(\"shape of U\", U.shape)\n",
    "    d = d[0:k,0:k]  #print(\"shape of d\", d.shape)\n",
    "    V = V[0:k,:]    #print(\"shape of V\", V.shape)\n",
    "    \n",
    "    d = sqrtm(d)\n",
    "    \n",
    "    Ud = np.dot(U,d)\n",
    "    dV = np.dot(d,V)\n",
    "    UdV = np.dot(Ud,dV)\n",
    "    UdV = UdV + sub\n",
    "    \n",
    "    return UdV\n"
   ]
  },
  {
   "cell_type": "markdown",
   "metadata": {},
   "source": [
    "#### Code for the test set \n",
    "\n",
    "Write the code that computes the RMSE for the predicted ratings for the test data present in the `test` matrix."
   ]
  },
  {
   "cell_type": "code",
   "execution_count": 35,
   "metadata": {},
   "outputs": [
    {
     "name": "stdout",
     "output_type": "stream",
     "text": [
      "Root Mean Square Error of test set for the range of features is:  0.9944775688254684\n",
      "Root Mean Square Error of test set for the range of features is:  0.9944775688254684\n",
      "Root Mean Square Error of test set for the range of features is:  0.9944775688254684\n",
      "Root Mean Square Error of test set for the range of features is:  0.9944775688254684\n",
      "Root Mean Square Error of test set for the range of features is:  0.9944775688254684\n",
      "Root Mean Square Error of test set for the range of features is:  0.9944775688254684\n"
     ]
    }
   ],
   "source": [
    "features = [6,8,10,13,17,20]\n",
    "\n",
    "for i in features: \n",
    "    output = svd(utilMat, k=i)\n",
    "    pred = [] \n",
    "\n",
    "    for _,row in test.iterrows():\n",
    "        users = row['userId']\n",
    "        items = row['movieId']\n",
    "\n",
    "        user_index = users_index[users]\n",
    "        if items in items_index:\n",
    "            item_index = items_index[items]\n",
    "            predicted_rating = output[user_index, item_index]\n",
    "        else:\n",
    "            predicted_rating = np.mean(output[user_index, :])\n",
    "        pred.append(predicted_rating)\n",
    "\n",
    "    print(\"Root Mean Square Error of test set for the range of features is: \",rmse(test['rating'], pred))"
   ]
  }
 ],
 "metadata": {
  "kernelspec": {
   "display_name": "Python 3",
   "language": "python",
   "name": "python3"
  },
  "language_info": {
   "codemirror_mode": {
    "name": "ipython",
    "version": 3
   },
   "file_extension": ".py",
   "mimetype": "text/x-python",
   "name": "python",
   "nbconvert_exporter": "python",
   "pygments_lexer": "ipython3",
   "version": "3.8.5"
  }
 },
 "nbformat": 4,
 "nbformat_minor": 2
}
